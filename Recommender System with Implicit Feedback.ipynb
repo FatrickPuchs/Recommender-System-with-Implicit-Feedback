{
 "cells": [
  {
   "cell_type": "code",
   "execution_count": 1,
   "metadata": {
    "scrolled": true
   },
   "outputs": [
    {
     "data": {
      "text/html": [
       "<div>\n",
       "<style scoped>\n",
       "    .dataframe tbody tr th:only-of-type {\n",
       "        vertical-align: middle;\n",
       "    }\n",
       "\n",
       "    .dataframe tbody tr th {\n",
       "        vertical-align: top;\n",
       "    }\n",
       "\n",
       "    .dataframe thead th {\n",
       "        text-align: right;\n",
       "    }\n",
       "</style>\n",
       "<table border=\"1\" class=\"dataframe\">\n",
       "  <thead>\n",
       "    <tr style=\"text-align: right;\">\n",
       "      <th></th>\n",
       "      <th>InvoiceNo</th>\n",
       "      <th>StockCode</th>\n",
       "      <th>Description</th>\n",
       "      <th>Quantity</th>\n",
       "      <th>InvoiceDate</th>\n",
       "      <th>UnitPrice</th>\n",
       "      <th>CustomerID</th>\n",
       "      <th>Country</th>\n",
       "    </tr>\n",
       "  </thead>\n",
       "  <tbody>\n",
       "    <tr>\n",
       "      <th>0</th>\n",
       "      <td>536365</td>\n",
       "      <td>85123A</td>\n",
       "      <td>WHITE HANGING HEART T-LIGHT HOLDER</td>\n",
       "      <td>6</td>\n",
       "      <td>2010-12-01 08:26:00</td>\n",
       "      <td>2.55</td>\n",
       "      <td>17850.0</td>\n",
       "      <td>United Kingdom</td>\n",
       "    </tr>\n",
       "    <tr>\n",
       "      <th>1</th>\n",
       "      <td>536365</td>\n",
       "      <td>71053</td>\n",
       "      <td>WHITE METAL LANTERN</td>\n",
       "      <td>6</td>\n",
       "      <td>2010-12-01 08:26:00</td>\n",
       "      <td>3.39</td>\n",
       "      <td>17850.0</td>\n",
       "      <td>United Kingdom</td>\n",
       "    </tr>\n",
       "    <tr>\n",
       "      <th>2</th>\n",
       "      <td>536365</td>\n",
       "      <td>84406B</td>\n",
       "      <td>CREAM CUPID HEARTS COAT HANGER</td>\n",
       "      <td>8</td>\n",
       "      <td>2010-12-01 08:26:00</td>\n",
       "      <td>2.75</td>\n",
       "      <td>17850.0</td>\n",
       "      <td>United Kingdom</td>\n",
       "    </tr>\n",
       "    <tr>\n",
       "      <th>3</th>\n",
       "      <td>536365</td>\n",
       "      <td>84029G</td>\n",
       "      <td>KNITTED UNION FLAG HOT WATER BOTTLE</td>\n",
       "      <td>6</td>\n",
       "      <td>2010-12-01 08:26:00</td>\n",
       "      <td>3.39</td>\n",
       "      <td>17850.0</td>\n",
       "      <td>United Kingdom</td>\n",
       "    </tr>\n",
       "    <tr>\n",
       "      <th>4</th>\n",
       "      <td>536365</td>\n",
       "      <td>84029E</td>\n",
       "      <td>RED WOOLLY HOTTIE WHITE HEART.</td>\n",
       "      <td>6</td>\n",
       "      <td>2010-12-01 08:26:00</td>\n",
       "      <td>3.39</td>\n",
       "      <td>17850.0</td>\n",
       "      <td>United Kingdom</td>\n",
       "    </tr>\n",
       "  </tbody>\n",
       "</table>\n",
       "</div>"
      ],
      "text/plain": [
       "  InvoiceNo StockCode                          Description  Quantity  \\\n",
       "0    536365    85123A   WHITE HANGING HEART T-LIGHT HOLDER         6   \n",
       "1    536365     71053                  WHITE METAL LANTERN         6   \n",
       "2    536365    84406B       CREAM CUPID HEARTS COAT HANGER         8   \n",
       "3    536365    84029G  KNITTED UNION FLAG HOT WATER BOTTLE         6   \n",
       "4    536365    84029E       RED WOOLLY HOTTIE WHITE HEART.         6   \n",
       "\n",
       "          InvoiceDate  UnitPrice  CustomerID         Country  \n",
       "0 2010-12-01 08:26:00       2.55     17850.0  United Kingdom  \n",
       "1 2010-12-01 08:26:00       3.39     17850.0  United Kingdom  \n",
       "2 2010-12-01 08:26:00       2.75     17850.0  United Kingdom  \n",
       "3 2010-12-01 08:26:00       3.39     17850.0  United Kingdom  \n",
       "4 2010-12-01 08:26:00       3.39     17850.0  United Kingdom  "
      ]
     },
     "execution_count": 1,
     "metadata": {},
     "output_type": "execute_result"
    }
   ],
   "source": [
    "# Import aller benötigten Programmbibliotheken\n",
    "\n",
    "import pandas as pd\n",
    "import numpy as np\n",
    "import scipy.sparse as sparse\n",
    "from scipy.sparse.linalg import spsolve\n",
    "import random\n",
    "import implicit\n",
    "import nmslib\n",
    "import annoy\n",
    "from implicit.evaluation import precision_at_k, mean_average_precision_at_k\n",
    "\n",
    "# Import des Online Retail-Datensatzes\n",
    "\n",
    "OnlineRetail = pd.read_excel(r\"C:\\Users\\patri\\Google Drive\\Uni!\\Master WiInfo\\IV. Semester\\Seminararbeit\\Datensätze\\Online Retail\\Online Retail.xlsx\")\n",
    "\n",
    "# Anzeigen des 'Datensatzkopfes'\n",
    "\n",
    "OnlineRetail.head()"
   ]
  },
  {
   "cell_type": "code",
   "execution_count": 2,
   "metadata": {},
   "outputs": [
    {
     "name": "stdout",
     "output_type": "stream",
     "text": [
      "<class 'pandas.core.frame.DataFrame'>\n",
      "RangeIndex: 541909 entries, 0 to 541908\n",
      "Data columns (total 8 columns):\n",
      "InvoiceNo      541909 non-null object\n",
      "StockCode      541909 non-null object\n",
      "Description    540455 non-null object\n",
      "Quantity       541909 non-null int64\n",
      "InvoiceDate    541909 non-null datetime64[ns]\n",
      "UnitPrice      541909 non-null float64\n",
      "CustomerID     406829 non-null float64\n",
      "Country        541909 non-null object\n",
      "dtypes: datetime64[ns](1), float64(2), int64(1), object(4)\n",
      "memory usage: 33.1+ MB\n"
     ]
    }
   ],
   "source": [
    "# Der Datensatz enhält insgesamt 541909 Zeilen\n",
    "\n",
    "OnlineRetail.info()"
   ]
  },
  {
   "cell_type": "code",
   "execution_count": 3,
   "metadata": {},
   "outputs": [],
   "source": [
    "# Zeilen, die keine CustomerID enthalten, entfernen. \n",
    "# Ohne CustomerID kann später in der Matrix keine Zuordnung zu einem Produkt erfolgen. \n",
    "\n",
    "CleanedData = OnlineRetail.loc[pd.isnull(OnlineRetail.CustomerID) == False]"
   ]
  },
  {
   "cell_type": "code",
   "execution_count": 4,
   "metadata": {},
   "outputs": [
    {
     "name": "stdout",
     "output_type": "stream",
     "text": [
      "<class 'pandas.core.frame.DataFrame'>\n",
      "Int64Index: 406829 entries, 0 to 541908\n",
      "Data columns (total 8 columns):\n",
      "InvoiceNo      406829 non-null object\n",
      "StockCode      406829 non-null object\n",
      "Description    406829 non-null object\n",
      "Quantity       406829 non-null int64\n",
      "InvoiceDate    406829 non-null datetime64[ns]\n",
      "UnitPrice      406829 non-null float64\n",
      "CustomerID     406829 non-null float64\n",
      "Country        406829 non-null object\n",
      "dtypes: datetime64[ns](1), float64(2), int64(1), object(4)\n",
      "memory usage: 27.9+ MB\n"
     ]
    }
   ],
   "source": [
    "# Nach dem Entfernen der Zeilen ohne CustomerID enthält der Datensatz noch 406829 Zeilen\n",
    "\n",
    "CleanedData.info()"
   ]
  },
  {
   "cell_type": "code",
   "execution_count": 5,
   "metadata": {},
   "outputs": [],
   "source": [
    "#Erstellen einer separaten Tabelle, die nur den StockCode und die eine Description der Artikel enthält\n",
    "\n",
    "ItemData = CleanedData[[\"StockCode\", \"Description\"]].drop_duplicates()\n",
    "\n",
    "# Formatieren der Spalte \"StockCode\" von einem numerischen Wert in einen String\n",
    "\n",
    "ItemData[\"StockCode\"] = ItemData[\"StockCode\"].astype(str)"
   ]
  },
  {
   "cell_type": "code",
   "execution_count": 6,
   "metadata": {
    "scrolled": true
   },
   "outputs": [
    {
     "name": "stdout",
     "output_type": "stream",
     "text": [
      "<class 'pandas.core.frame.DataFrame'>\n",
      "Int64Index: 3916 entries, 0 to 540421\n",
      "Data columns (total 2 columns):\n",
      "StockCode      3916 non-null object\n",
      "Description    3916 non-null object\n",
      "dtypes: object(2)\n",
      "memory usage: 91.8+ KB\n"
     ]
    }
   ],
   "source": [
    "# Die separate Tabelle 'ItemData' enthält die 3916 Produkte des Unternehmens\n",
    " \n",
    "ItemData.info()"
   ]
  },
  {
   "cell_type": "code",
   "execution_count": 7,
   "metadata": {},
   "outputs": [
    {
     "data": {
      "text/html": [
       "<div>\n",
       "<style scoped>\n",
       "    .dataframe tbody tr th:only-of-type {\n",
       "        vertical-align: middle;\n",
       "    }\n",
       "\n",
       "    .dataframe tbody tr th {\n",
       "        vertical-align: top;\n",
       "    }\n",
       "\n",
       "    .dataframe thead th {\n",
       "        text-align: right;\n",
       "    }\n",
       "</style>\n",
       "<table border=\"1\" class=\"dataframe\">\n",
       "  <thead>\n",
       "    <tr style=\"text-align: right;\">\n",
       "      <th></th>\n",
       "      <th>StockCode</th>\n",
       "      <th>Description</th>\n",
       "    </tr>\n",
       "  </thead>\n",
       "  <tbody>\n",
       "    <tr>\n",
       "      <th>0</th>\n",
       "      <td>85123A</td>\n",
       "      <td>WHITE HANGING HEART T-LIGHT HOLDER</td>\n",
       "    </tr>\n",
       "    <tr>\n",
       "      <th>1</th>\n",
       "      <td>71053</td>\n",
       "      <td>WHITE METAL LANTERN</td>\n",
       "    </tr>\n",
       "    <tr>\n",
       "      <th>2</th>\n",
       "      <td>84406B</td>\n",
       "      <td>CREAM CUPID HEARTS COAT HANGER</td>\n",
       "    </tr>\n",
       "    <tr>\n",
       "      <th>3</th>\n",
       "      <td>84029G</td>\n",
       "      <td>KNITTED UNION FLAG HOT WATER BOTTLE</td>\n",
       "    </tr>\n",
       "    <tr>\n",
       "      <th>4</th>\n",
       "      <td>84029E</td>\n",
       "      <td>RED WOOLLY HOTTIE WHITE HEART.</td>\n",
       "    </tr>\n",
       "  </tbody>\n",
       "</table>\n",
       "</div>"
      ],
      "text/plain": [
       "  StockCode                          Description\n",
       "0    85123A   WHITE HANGING HEART T-LIGHT HOLDER\n",
       "1     71053                  WHITE METAL LANTERN\n",
       "2    84406B       CREAM CUPID HEARTS COAT HANGER\n",
       "3    84029G  KNITTED UNION FLAG HOT WATER BOTTLE\n",
       "4    84029E       RED WOOLLY HOTTIE WHITE HEART."
      ]
     },
     "execution_count": 7,
     "metadata": {},
     "output_type": "execute_result"
    }
   ],
   "source": [
    "# Anzeigen des 'Tabellenkopfes'\n",
    "\n",
    "ItemData.head()"
   ]
  },
  {
   "cell_type": "code",
   "execution_count": 8,
   "metadata": {},
   "outputs": [
    {
     "data": {
      "text/plain": [
       "count    406829.000000\n",
       "mean         12.061303\n",
       "std         248.693370\n",
       "min      -80995.000000\n",
       "25%           2.000000\n",
       "50%           5.000000\n",
       "75%          12.000000\n",
       "max       80995.000000\n",
       "Name: Quantity, dtype: float64"
      ]
     },
     "execution_count": 8,
     "metadata": {},
     "output_type": "execute_result"
    }
   ],
   "source": [
    "# Der Datensatz enthält nicht nur Verkäufe, sondern auch Rückgaben, da negative Mengen in der Spalte 'Quantity' vorhanden sind.\n",
    "\n",
    "CleanedData[\"Quantity\"].describe()"
   ]
  },
  {
   "cell_type": "code",
   "execution_count": 9,
   "metadata": {},
   "outputs": [
    {
     "name": "stderr",
     "output_type": "stream",
     "text": [
      "C:\\Users\\patri\\Anaconda3\\lib\\site-packages\\ipykernel_launcher.py:2: SettingWithCopyWarning: \n",
      "A value is trying to be set on a copy of a slice from a DataFrame.\n",
      "Try using .loc[row_indexer,col_indexer] = value instead\n",
      "\n",
      "See the caveats in the documentation: http://pandas.pydata.org/pandas-docs/stable/indexing.html#indexing-view-versus-copy\n",
      "  \n"
     ]
    },
    {
     "name": "stdout",
     "output_type": "stream",
     "text": [
      "<class 'pandas.core.frame.DataFrame'>\n",
      "Int64Index: 406829 entries, 0 to 541908\n",
      "Data columns (total 8 columns):\n",
      "InvoiceNo      406829 non-null object\n",
      "StockCode      406829 non-null object\n",
      "Description    406829 non-null object\n",
      "Quantity       406829 non-null int64\n",
      "InvoiceDate    406829 non-null datetime64[ns]\n",
      "UnitPrice      406829 non-null float64\n",
      "CustomerID     406829 non-null int32\n",
      "Country        406829 non-null object\n",
      "dtypes: datetime64[ns](1), float64(1), int32(1), int64(1), object(4)\n",
      "memory usage: 26.4+ MB\n"
     ]
    }
   ],
   "source": [
    "# Überführen der CustomerID in numerischen Wert (int)\n",
    "CleanedData[\"CustomerID\"] = CleanedData[\"CustomerID\"].astype(int)\n",
    "CleanedData.info()"
   ]
  },
  {
   "cell_type": "code",
   "execution_count": 10,
   "metadata": {},
   "outputs": [
    {
     "name": "stderr",
     "output_type": "stream",
     "text": [
      "C:\\Users\\patri\\Anaconda3\\lib\\site-packages\\pandas\\core\\indexing.py:190: SettingWithCopyWarning: \n",
      "A value is trying to be set on a copy of a slice from a DataFrame\n",
      "\n",
      "See the caveats in the documentation: http://pandas.pydata.org/pandas-docs/stable/indexing.html#indexing-view-versus-copy\n",
      "  self._setitem_with_indexer(indexer, value)\n"
     ]
    },
    {
     "data": {
      "text/html": [
       "<div>\n",
       "<style scoped>\n",
       "    .dataframe tbody tr th:only-of-type {\n",
       "        vertical-align: middle;\n",
       "    }\n",
       "\n",
       "    .dataframe tbody tr th {\n",
       "        vertical-align: top;\n",
       "    }\n",
       "\n",
       "    .dataframe thead th {\n",
       "        text-align: right;\n",
       "    }\n",
       "</style>\n",
       "<table border=\"1\" class=\"dataframe\">\n",
       "  <thead>\n",
       "    <tr style=\"text-align: right;\">\n",
       "      <th></th>\n",
       "      <th>CustomerID</th>\n",
       "      <th>StockCode</th>\n",
       "      <th>Quantity</th>\n",
       "    </tr>\n",
       "  </thead>\n",
       "  <tbody>\n",
       "    <tr>\n",
       "      <th>0</th>\n",
       "      <td>12346</td>\n",
       "      <td>23166</td>\n",
       "      <td>1</td>\n",
       "    </tr>\n",
       "    <tr>\n",
       "      <th>1</th>\n",
       "      <td>12347</td>\n",
       "      <td>16008</td>\n",
       "      <td>24</td>\n",
       "    </tr>\n",
       "    <tr>\n",
       "      <th>2</th>\n",
       "      <td>12347</td>\n",
       "      <td>17021</td>\n",
       "      <td>36</td>\n",
       "    </tr>\n",
       "    <tr>\n",
       "      <th>3</th>\n",
       "      <td>12347</td>\n",
       "      <td>20665</td>\n",
       "      <td>6</td>\n",
       "    </tr>\n",
       "    <tr>\n",
       "      <th>4</th>\n",
       "      <td>12347</td>\n",
       "      <td>20719</td>\n",
       "      <td>40</td>\n",
       "    </tr>\n",
       "  </tbody>\n",
       "</table>\n",
       "</div>"
      ],
      "text/plain": [
       "   CustomerID StockCode  Quantity\n",
       "0       12346     23166         1\n",
       "1       12347     16008        24\n",
       "2       12347     17021        36\n",
       "3       12347     20665         6\n",
       "4       12347     20719        40"
      ]
     },
     "execution_count": 10,
     "metadata": {},
     "output_type": "execute_result"
    }
   ],
   "source": [
    "# Reduzieren des Online Retail Datensatzes auf die benötigten Daten für die Kunden-Produkt-Matrix:\n",
    "\n",
    "CleanedData = CleanedData[[\"StockCode\", \"Quantity\", \"CustomerID\"]]\n",
    "\n",
    "# Gruppieren und aufsummieren der Daten, um Rückgaben und Käufe 'auszugleichen':\n",
    "\n",
    "GroupedData = CleanedData.groupby([\"CustomerID\", \"StockCode\"]).sum().reset_index()\n",
    "\n",
    "# Sollten durch das Aufsummieren von Rückgaben und Käufen 0-Werte entstanden sein, werden diese nun durch 1 ersetzt.\n",
    "# Dies gibt weiterhin ein Kaufinteresse des Kunden an diesem Artikel wieder.\n",
    "\n",
    "GroupedData[\"Quantity\"].loc[GroupedData[\"Quantity\"] == 0] = 1\n",
    "\n",
    "# Anzeigen des 'Tabellenkopfes' des reduzierten Datensatzes\n",
    "\n",
    "GroupedData.head()"
   ]
  },
  {
   "cell_type": "code",
   "execution_count": 11,
   "metadata": {},
   "outputs": [
    {
     "data": {
      "text/plain": [
       "count    267615.000000\n",
       "mean         18.341240\n",
       "std          97.388138\n",
       "min       -9360.000000\n",
       "25%           2.000000\n",
       "50%           6.000000\n",
       "75%          12.000000\n",
       "max       12540.000000\n",
       "Name: Quantity, dtype: float64"
      ]
     },
     "execution_count": 11,
     "metadata": {},
     "output_type": "execute_result"
    }
   ],
   "source": [
    "# Es sind weiterhin mehrere Werte, die kleiner 0 sind,im Datensatz vorhanden d.h. im betrachteten Zeitraum wurden mehr Produkte zurückgegeben als gekauft wurden.\n",
    "\n",
    "GroupedData[\"Quantity\"].describe()"
   ]
  },
  {
   "cell_type": "code",
   "execution_count": 12,
   "metadata": {},
   "outputs": [
    {
     "data": {
      "text/html": [
       "<div>\n",
       "<style scoped>\n",
       "    .dataframe tbody tr th:only-of-type {\n",
       "        vertical-align: middle;\n",
       "    }\n",
       "\n",
       "    .dataframe tbody tr th {\n",
       "        vertical-align: top;\n",
       "    }\n",
       "\n",
       "    .dataframe thead th {\n",
       "        text-align: right;\n",
       "    }\n",
       "</style>\n",
       "<table border=\"1\" class=\"dataframe\">\n",
       "  <thead>\n",
       "    <tr style=\"text-align: right;\">\n",
       "      <th></th>\n",
       "      <th>CustomerID</th>\n",
       "      <th>StockCode</th>\n",
       "      <th>Quantity</th>\n",
       "    </tr>\n",
       "  </thead>\n",
       "  <tbody>\n",
       "    <tr>\n",
       "      <th>0</th>\n",
       "      <td>12346</td>\n",
       "      <td>23166</td>\n",
       "      <td>1</td>\n",
       "    </tr>\n",
       "    <tr>\n",
       "      <th>1</th>\n",
       "      <td>12347</td>\n",
       "      <td>16008</td>\n",
       "      <td>24</td>\n",
       "    </tr>\n",
       "    <tr>\n",
       "      <th>2</th>\n",
       "      <td>12347</td>\n",
       "      <td>17021</td>\n",
       "      <td>36</td>\n",
       "    </tr>\n",
       "    <tr>\n",
       "      <th>3</th>\n",
       "      <td>12347</td>\n",
       "      <td>20665</td>\n",
       "      <td>6</td>\n",
       "    </tr>\n",
       "    <tr>\n",
       "      <th>4</th>\n",
       "      <td>12347</td>\n",
       "      <td>20719</td>\n",
       "      <td>40</td>\n",
       "    </tr>\n",
       "  </tbody>\n",
       "</table>\n",
       "</div>"
      ],
      "text/plain": [
       "   CustomerID StockCode  Quantity\n",
       "0       12346     23166         1\n",
       "1       12347     16008        24\n",
       "2       12347     17021        36\n",
       "3       12347     20665         6\n",
       "4       12347     20719        40"
      ]
     },
     "execution_count": 12,
     "metadata": {},
     "output_type": "execute_result"
    }
   ],
   "source": [
    "# Mengen, die weiterhin kleiner 0 sind, werden herausgefiltert (d.h. mehr Rückgaben als Verkäufe).\n",
    "# Dies wird getan, da sich diese negativen Mengen nicht korrekt gegenüber früheren Bestelleungen gegengerechnen lassen.\n",
    "\n",
    "PurchasedData = GroupedData[GroupedData[\"Quantity\"] > 0]\n",
    "PurchasedData.head()"
   ]
  },
  {
   "cell_type": "code",
   "execution_count": 13,
   "metadata": {},
   "outputs": [],
   "source": [
    "# Erstellen einer Liste von Kunden aus dem DataFrame 'PurchasedData'\n",
    "\n",
    "Customers = list(np.sort(PurchasedData[\"CustomerID\"].unique()))\n",
    "\n",
    "# Erstellen einer Liste von Produkten aus dem DataFrame 'PurchasedData'\n",
    "\n",
    "Products = list(PurchasedData[\"StockCode\"].unique())\n",
    "\n",
    "# Erstellen einer Liste von Mengen aus dem DataFrame 'PurchasedData'\n",
    "\n",
    "Quantities = list(PurchasedData[\"Quantity\"])"
   ]
  },
  {
   "cell_type": "code",
   "execution_count": 14,
   "metadata": {},
   "outputs": [
    {
     "name": "stderr",
     "output_type": "stream",
     "text": [
      "C:\\Users\\patri\\Anaconda3\\lib\\site-packages\\IPython\\core\\interactiveshell.py:3296: FutureWarning: specifying 'categories' or 'ordered' in .astype() is deprecated; pass a CategoricalDtype instead\n",
      "  exec(code_obj, self.user_global_ns, self.user_ns)\n"
     ]
    }
   ],
   "source": [
    "# Implicit benötigt eine Sparse Matrix der Form Produkt / Kunde / Bewertung\n",
    "\n",
    "# Erstellen der Spalten der Matrix\n",
    "\n",
    "cols = PurchasedData[\"CustomerID\"].astype(\"category\", categories = Customers).cat.codes\n",
    "\n",
    "# Erstellen der Reihen der Matrix\n",
    "\n",
    "rows = PurchasedData[\"StockCode\"].astype(\"category\", categories = Products).cat.codes\n",
    "\n",
    "# Erstellen der Matrix\n",
    "\n",
    "PurchaseMatrix = sparse.csr_matrix((Quantities, (rows, cols)), shape = (len(Products), len(Customers)))"
   ]
  },
  {
   "cell_type": "code",
   "execution_count": 15,
   "metadata": {},
   "outputs": [
    {
     "data": {
      "text/plain": [
       "<3664x4338 sparse matrix of type '<class 'numpy.int32'>'\n",
       "\twith 266723 stored elements in Compressed Sparse Row format>"
      ]
     },
     "execution_count": 15,
     "metadata": {},
     "output_type": "execute_result"
    }
   ],
   "source": [
    "# Anzeigen der Matrix\n",
    "\n",
    "PurchaseMatrix"
   ]
  },
  {
   "cell_type": "code",
   "execution_count": 16,
   "metadata": {},
   "outputs": [
    {
     "data": {
      "text/plain": [
       "98.32190920694744"
      ]
     },
     "execution_count": 16,
     "metadata": {},
     "output_type": "execute_result"
    }
   ],
   "source": [
    "# Berechnung der 'Sparsity' der Matrix\n",
    "# Mit einer Sparsity von 98,32 % ist die Matrix ausreichend befüllt, um aussagelräftige Empfehlungen generieren zu können. \n",
    "\n",
    "MatrixSize = PurchaseMatrix.shape[0]*PurchaseMatrix.shape[1]\n",
    "NumberPurchases = len(PurchaseMatrix.nonzero()[0])\n",
    "Sparsity = 100*(1 - (NumberPurchases/MatrixSize))\n",
    "Sparsity"
   ]
  },
  {
   "cell_type": "code",
   "execution_count": 17,
   "metadata": {},
   "outputs": [],
   "source": [
    "# Für das Training und die spätere Bewertung der Algorithmen wird der Datensatz in Trainings- & Testdaten unterteilt.\n",
    "# 80 % der Daten werden für das Training der Algorithmen verwendet.\n",
    "\n",
    "def train(ratings, pct_test = 0.2):\n",
    "    test_set = ratings.copy()\n",
    "    test_set[test_set != 0] = 1\n",
    "    training_set = ratings.copy()\n",
    "    nonzero_inds = training_set.nonzero()\n",
    "    nonzero_pairs = list(zip(nonzero_inds[0], nonzero_inds[1]))\n",
    "    random.seed(0)\n",
    "    num_samples = int(np.ceil(pct_test * len(nonzero_pairs)))\n",
    "    samples = random.sample(nonzero_pairs, num_samples)\n",
    "    user_inds = [index[0] for index in samples]\n",
    "    item_inds = [index[1] for index in samples]\n",
    "    training_set[user_inds, item_inds] = 0\n",
    "    training_set.eliminate_zeros()\n",
    "    return training_set, test_set, list(set(user_inds))\n",
    "\n",
    "ProductTrain, ProductTest, ProductUsersAltered = train(PurchaseMatrix, pct_test = 0.2)"
   ]
  },
  {
   "cell_type": "code",
   "execution_count": 18,
   "metadata": {},
   "outputs": [
    {
     "data": {
      "text/plain": [
       "<3664x4338 sparse matrix of type '<class 'numpy.int32'>'\n",
       "\twith 213378 stored elements in Compressed Sparse Row format>"
      ]
     },
     "execution_count": 18,
     "metadata": {},
     "output_type": "execute_result"
    }
   ],
   "source": [
    "# Anzeigend er Trainings-Matrix\n",
    "\n",
    "ProductTrain"
   ]
  },
  {
   "cell_type": "code",
   "execution_count": 19,
   "metadata": {},
   "outputs": [
    {
     "data": {
      "text/plain": [
       "<3664x4338 sparse matrix of type '<class 'numpy.int32'>'\n",
       "\twith 266723 stored elements in Compressed Sparse Row format>"
      ]
     },
     "execution_count": 19,
     "metadata": {},
     "output_type": "execute_result"
    }
   ],
   "source": [
    "# Anzeigen der Trainings-Matrix\n",
    "\n",
    "ProductTest"
   ]
  },
  {
   "cell_type": "code",
   "execution_count": 28,
   "metadata": {
    "scrolled": true
   },
   "outputs": [],
   "source": [
    "# Initialisieren der verschiedenen Algorithmen\n",
    "\n",
    "# Alternating Least Square\n",
    "\n",
    "ALS = implicit.als.AlternatingLeastSquares(iterations = 84, factors = 243, regularization = 0.68)\n",
    "\n",
    "# Bayesian Personalized Ranking\n",
    "\n",
    "BPR = implicit.bpr.BayesianPersonalizedRanking(iterations = 78, factors = 191, regularization = 0, learning_rate = 0.01 )\n",
    "\n",
    "# Alternating Least Squares unter Verwendung der NMSLib zur Berechnung der Nearest Neigbours\n",
    "\n",
    "NMSL_ALS = implicit.approximate_als.NMSLibAlternatingLeastSquares()\n",
    "\n",
    "# Alternating Least Squares unter Verwendung von Annoy zur Berechnung ähnlicher Produkte \n",
    "\n",
    "AN_ALS = implicit.approximate_als.AnnoyAlternatingLeastSquares(n_trees = 373, search_k = -60)"
   ]
  },
  {
   "cell_type": "code",
   "execution_count": 29,
   "metadata": {
    "scrolled": true
   },
   "outputs": [
    {
     "name": "stderr",
     "output_type": "stream",
     "text": [
      "100%|██████████| 84.0/84 [00:12<00:00,  6.59it/s]\n",
      "100%|██████████| 78/78 [00:03<00:00, 21.25it/s, correct=93.01%, skipped=9.07%]\n",
      "100%|██████████| 15.0/15 [00:00<00:00, 17.55it/s]\n",
      "100%|██████████| 15.0/15 [00:01<00:00, 13.82it/s]\n"
     ]
    }
   ],
   "source": [
    "# Trainieren der verschiedenen Modelle\n",
    "\n",
    "# Alternating Least Square\n",
    "\n",
    "ALS.fit(ProductTrain)\n",
    "\n",
    "# Bayesian Personalized Ranking\n",
    "\n",
    "BPR.fit(ProductTrain)\n",
    "\n",
    "# Alternating Least Squares unter Verwendung der NMSLib zur Berechnung der Nearest Neigbours\n",
    "\n",
    "NMSL_ALS.fit(ProductTrain)\n",
    "\n",
    "# Alternating Least Squares unter Verwendung von Annoy zur Berechnung ähnlicher Produkte \n",
    "\n",
    "AN_ALS.fit(ProductTrain)"
   ]
  },
  {
   "cell_type": "code",
   "execution_count": 30,
   "metadata": {},
   "outputs": [],
   "source": [
    "UserItems = ProductTrain.T.tocsr()\n",
    "CustomersArr = np.array(Customers)\n",
    "ProductsArr = np.array(Products)"
   ]
  },
  {
   "cell_type": "code",
   "execution_count": 31,
   "metadata": {},
   "outputs": [],
   "source": [
    "# Definieren der Empfehlungsfunktion mit der Auswahlmöglichkeit des Algorithmus\n",
    "\n",
    "def recommendProduct(rec_type, customer_id, mf_train, customer_list, item_list, num_items,item_database):\n",
    "    cust_ind = np.where(customer_list == customer_id)[0][0]\n",
    "    \n",
    "    counter = 0\n",
    "    FirstLevelRecommendations = []\n",
    "    for i in range(0, num_items - 1):\n",
    "        RecSysResults = rec_type.recommend(cust_ind, UserItems)[counter]\n",
    "        counter = counter + 1\n",
    "        RecSysResults = RecSysResults[0]\n",
    "        FirstLevelRecommendations.append(RecSysResults)\n",
    "    RecommendationsList = []\n",
    "    for index in FirstLevelRecommendations:\n",
    "        ProductCode = ProductsArr[index]\n",
    "        RecommendationsList.append(ProductCode)\n",
    "    return item_database[item_database[\"StockCode\"].isin (RecommendationsList)]"
   ]
  },
  {
   "cell_type": "code",
   "execution_count": 41,
   "metadata": {},
   "outputs": [
    {
     "data": {
      "text/html": [
       "<div>\n",
       "<style scoped>\n",
       "    .dataframe tbody tr th:only-of-type {\n",
       "        vertical-align: middle;\n",
       "    }\n",
       "\n",
       "    .dataframe tbody tr th {\n",
       "        vertical-align: top;\n",
       "    }\n",
       "\n",
       "    .dataframe thead th {\n",
       "        text-align: right;\n",
       "    }\n",
       "</style>\n",
       "<table border=\"1\" class=\"dataframe\">\n",
       "  <thead>\n",
       "    <tr style=\"text-align: right;\">\n",
       "      <th></th>\n",
       "      <th>StockCode</th>\n",
       "      <th>Description</th>\n",
       "    </tr>\n",
       "  </thead>\n",
       "  <tbody>\n",
       "    <tr>\n",
       "      <th>9</th>\n",
       "      <td>84879</td>\n",
       "      <td>ASSORTED COLOUR BIRD ORNAMENT</td>\n",
       "    </tr>\n",
       "    <tr>\n",
       "      <th>172</th>\n",
       "      <td>85049A</td>\n",
       "      <td>TRADITIONAL CHRISTMAS RIBBONS</td>\n",
       "    </tr>\n",
       "    <tr>\n",
       "      <th>325</th>\n",
       "      <td>85049E</td>\n",
       "      <td>SCANDINAVIAN REDS RIBBONS</td>\n",
       "    </tr>\n",
       "    <tr>\n",
       "      <th>476</th>\n",
       "      <td>84347</td>\n",
       "      <td>ROTATING SILVER ANGELS T-LIGHT HLDR</td>\n",
       "    </tr>\n",
       "    <tr>\n",
       "      <th>562</th>\n",
       "      <td>22077</td>\n",
       "      <td>6 RIBBONS RUSTIC CHARM</td>\n",
       "    </tr>\n",
       "    <tr>\n",
       "      <th>991</th>\n",
       "      <td>22904</td>\n",
       "      <td>CALENDAR PAPER CUT DESIGN</td>\n",
       "    </tr>\n",
       "    <tr>\n",
       "      <th>1133</th>\n",
       "      <td>22584</td>\n",
       "      <td>PACK OF 6 PANNETONE GIFT BOXES</td>\n",
       "    </tr>\n",
       "    <tr>\n",
       "      <th>5307</th>\n",
       "      <td>22078</td>\n",
       "      <td>RIBBON REEL LACE DESIGN</td>\n",
       "    </tr>\n",
       "    <tr>\n",
       "      <th>6673</th>\n",
       "      <td>22080</td>\n",
       "      <td>RIBBON REEL POLKADOTS</td>\n",
       "    </tr>\n",
       "    <tr>\n",
       "      <th>476984</th>\n",
       "      <td>22584</td>\n",
       "      <td>PACK OF 6 PANETTONE GIFT BOXES</td>\n",
       "    </tr>\n",
       "  </tbody>\n",
       "</table>\n",
       "</div>"
      ],
      "text/plain": [
       "       StockCode                          Description\n",
       "9          84879        ASSORTED COLOUR BIRD ORNAMENT\n",
       "172       85049A        TRADITIONAL CHRISTMAS RIBBONS\n",
       "325       85049E            SCANDINAVIAN REDS RIBBONS\n",
       "476        84347  ROTATING SILVER ANGELS T-LIGHT HLDR\n",
       "562        22077               6 RIBBONS RUSTIC CHARM\n",
       "991        22904            CALENDAR PAPER CUT DESIGN\n",
       "1133       22584       PACK OF 6 PANNETONE GIFT BOXES\n",
       "5307       22078             RIBBON REEL LACE DESIGN \n",
       "6673       22080               RIBBON REEL POLKADOTS \n",
       "476984     22584       PACK OF 6 PANETTONE GIFT BOXES"
      ]
     },
     "execution_count": 41,
     "metadata": {},
     "output_type": "execute_result"
    }
   ],
   "source": [
    "recommendProduct(BPR, 17548, ProductTrain, CustomersArr, ProductsArr, 10, ItemData)"
   ]
  },
  {
   "cell_type": "code",
   "execution_count": 39,
   "metadata": {},
   "outputs": [
    {
     "data": {
      "text/html": [
       "<div>\n",
       "<style scoped>\n",
       "    .dataframe tbody tr th:only-of-type {\n",
       "        vertical-align: middle;\n",
       "    }\n",
       "\n",
       "    .dataframe tbody tr th {\n",
       "        vertical-align: top;\n",
       "    }\n",
       "\n",
       "    .dataframe thead th {\n",
       "        text-align: right;\n",
       "    }\n",
       "</style>\n",
       "<table border=\"1\" class=\"dataframe\">\n",
       "  <thead>\n",
       "    <tr style=\"text-align: right;\">\n",
       "      <th></th>\n",
       "      <th>StockCode</th>\n",
       "      <th>Description</th>\n",
       "    </tr>\n",
       "  </thead>\n",
       "  <tbody>\n",
       "    <tr>\n",
       "      <th>9</th>\n",
       "      <td>84879</td>\n",
       "      <td>ASSORTED COLOUR BIRD ORNAMENT</td>\n",
       "    </tr>\n",
       "    <tr>\n",
       "      <th>478</th>\n",
       "      <td>22736</td>\n",
       "      <td>RIBBON REEL MAKING SNOWMEN</td>\n",
       "    </tr>\n",
       "    <tr>\n",
       "      <th>562</th>\n",
       "      <td>22077</td>\n",
       "      <td>6 RIBBONS RUSTIC CHARM</td>\n",
       "    </tr>\n",
       "    <tr>\n",
       "      <th>695</th>\n",
       "      <td>22113</td>\n",
       "      <td>GREY HEART HOT WATER BOTTLE</td>\n",
       "    </tr>\n",
       "    <tr>\n",
       "      <th>773</th>\n",
       "      <td>22925</td>\n",
       "      <td>BLUE GIANT GARDEN THERMOMETER</td>\n",
       "    </tr>\n",
       "    <tr>\n",
       "      <th>1133</th>\n",
       "      <td>22584</td>\n",
       "      <td>PACK OF 6 PANNETONE GIFT BOXES</td>\n",
       "    </tr>\n",
       "    <tr>\n",
       "      <th>1299</th>\n",
       "      <td>22567</td>\n",
       "      <td>20 DOLLY PEGS RETROSPOT</td>\n",
       "    </tr>\n",
       "    <tr>\n",
       "      <th>5307</th>\n",
       "      <td>22078</td>\n",
       "      <td>RIBBON REEL LACE DESIGN</td>\n",
       "    </tr>\n",
       "    <tr>\n",
       "      <th>6673</th>\n",
       "      <td>22080</td>\n",
       "      <td>RIBBON REEL POLKADOTS</td>\n",
       "    </tr>\n",
       "    <tr>\n",
       "      <th>476984</th>\n",
       "      <td>22584</td>\n",
       "      <td>PACK OF 6 PANETTONE GIFT BOXES</td>\n",
       "    </tr>\n",
       "  </tbody>\n",
       "</table>\n",
       "</div>"
      ],
      "text/plain": [
       "       StockCode                     Description\n",
       "9          84879   ASSORTED COLOUR BIRD ORNAMENT\n",
       "478        22736     RIBBON REEL MAKING SNOWMEN \n",
       "562        22077          6 RIBBONS RUSTIC CHARM\n",
       "695        22113     GREY HEART HOT WATER BOTTLE\n",
       "773        22925   BLUE GIANT GARDEN THERMOMETER\n",
       "1133       22584  PACK OF 6 PANNETONE GIFT BOXES\n",
       "1299       22567         20 DOLLY PEGS RETROSPOT\n",
       "5307       22078        RIBBON REEL LACE DESIGN \n",
       "6673       22080          RIBBON REEL POLKADOTS \n",
       "476984     22584  PACK OF 6 PANETTONE GIFT BOXES"
      ]
     },
     "execution_count": 39,
     "metadata": {},
     "output_type": "execute_result"
    }
   ],
   "source": [
    "recommendProduct(ALS, 17548, ProductTrain, CustomersArr, ProductsArr, 10, ItemData)"
   ]
  },
  {
   "cell_type": "code",
   "execution_count": 40,
   "metadata": {},
   "outputs": [
    {
     "data": {
      "text/html": [
       "<div>\n",
       "<style scoped>\n",
       "    .dataframe tbody tr th:only-of-type {\n",
       "        vertical-align: middle;\n",
       "    }\n",
       "\n",
       "    .dataframe tbody tr th {\n",
       "        vertical-align: top;\n",
       "    }\n",
       "\n",
       "    .dataframe thead th {\n",
       "        text-align: right;\n",
       "    }\n",
       "</style>\n",
       "<table border=\"1\" class=\"dataframe\">\n",
       "  <thead>\n",
       "    <tr style=\"text-align: right;\">\n",
       "      <th></th>\n",
       "      <th>StockCode</th>\n",
       "      <th>Description</th>\n",
       "    </tr>\n",
       "  </thead>\n",
       "  <tbody>\n",
       "    <tr>\n",
       "      <th>9</th>\n",
       "      <td>84879</td>\n",
       "      <td>ASSORTED COLOUR BIRD ORNAMENT</td>\n",
       "    </tr>\n",
       "    <tr>\n",
       "      <th>325</th>\n",
       "      <td>85049E</td>\n",
       "      <td>SCANDINAVIAN REDS RIBBONS</td>\n",
       "    </tr>\n",
       "    <tr>\n",
       "      <th>404</th>\n",
       "      <td>84378</td>\n",
       "      <td>SET OF 3 HEART COOKIE CUTTERS</td>\n",
       "    </tr>\n",
       "    <tr>\n",
       "      <th>562</th>\n",
       "      <td>22077</td>\n",
       "      <td>6 RIBBONS RUSTIC CHARM</td>\n",
       "    </tr>\n",
       "    <tr>\n",
       "      <th>626</th>\n",
       "      <td>22738</td>\n",
       "      <td>RIBBON REEL SNOWY VILLAGE</td>\n",
       "    </tr>\n",
       "    <tr>\n",
       "      <th>1026</th>\n",
       "      <td>22907</td>\n",
       "      <td>PACK OF 20 NAPKINS PANTRY DESIGN</td>\n",
       "    </tr>\n",
       "    <tr>\n",
       "      <th>1299</th>\n",
       "      <td>22567</td>\n",
       "      <td>20 DOLLY PEGS RETROSPOT</td>\n",
       "    </tr>\n",
       "    <tr>\n",
       "      <th>5307</th>\n",
       "      <td>22078</td>\n",
       "      <td>RIBBON REEL LACE DESIGN</td>\n",
       "    </tr>\n",
       "    <tr>\n",
       "      <th>6673</th>\n",
       "      <td>22080</td>\n",
       "      <td>RIBBON REEL POLKADOTS</td>\n",
       "    </tr>\n",
       "  </tbody>\n",
       "</table>\n",
       "</div>"
      ],
      "text/plain": [
       "     StockCode                       Description\n",
       "9        84879     ASSORTED COLOUR BIRD ORNAMENT\n",
       "325     85049E         SCANDINAVIAN REDS RIBBONS\n",
       "404      84378     SET OF 3 HEART COOKIE CUTTERS\n",
       "562      22077            6 RIBBONS RUSTIC CHARM\n",
       "626      22738         RIBBON REEL SNOWY VILLAGE\n",
       "1026     22907  PACK OF 20 NAPKINS PANTRY DESIGN\n",
       "1299     22567           20 DOLLY PEGS RETROSPOT\n",
       "5307     22078          RIBBON REEL LACE DESIGN \n",
       "6673     22080            RIBBON REEL POLKADOTS "
      ]
     },
     "execution_count": 40,
     "metadata": {},
     "output_type": "execute_result"
    }
   ],
   "source": [
    "recommendProduct(NMSL_ALS, 17548, ProductTrain, CustomersArr, ProductsArr, 10, ItemData)"
   ]
  },
  {
   "cell_type": "code",
   "execution_count": 42,
   "metadata": {},
   "outputs": [
    {
     "data": {
      "text/html": [
       "<div>\n",
       "<style scoped>\n",
       "    .dataframe tbody tr th:only-of-type {\n",
       "        vertical-align: middle;\n",
       "    }\n",
       "\n",
       "    .dataframe tbody tr th {\n",
       "        vertical-align: top;\n",
       "    }\n",
       "\n",
       "    .dataframe thead th {\n",
       "        text-align: right;\n",
       "    }\n",
       "</style>\n",
       "<table border=\"1\" class=\"dataframe\">\n",
       "  <thead>\n",
       "    <tr style=\"text-align: right;\">\n",
       "      <th></th>\n",
       "      <th>StockCode</th>\n",
       "      <th>Description</th>\n",
       "    </tr>\n",
       "  </thead>\n",
       "  <tbody>\n",
       "    <tr>\n",
       "      <th>9</th>\n",
       "      <td>84879</td>\n",
       "      <td>ASSORTED COLOUR BIRD ORNAMENT</td>\n",
       "    </tr>\n",
       "    <tr>\n",
       "      <th>325</th>\n",
       "      <td>85049E</td>\n",
       "      <td>SCANDINAVIAN REDS RIBBONS</td>\n",
       "    </tr>\n",
       "    <tr>\n",
       "      <th>399</th>\n",
       "      <td>85049G</td>\n",
       "      <td>CHOCOLATE BOX RIBBONS</td>\n",
       "    </tr>\n",
       "    <tr>\n",
       "      <th>562</th>\n",
       "      <td>22077</td>\n",
       "      <td>6 RIBBONS RUSTIC CHARM</td>\n",
       "    </tr>\n",
       "    <tr>\n",
       "      <th>793</th>\n",
       "      <td>22737</td>\n",
       "      <td>RIBBON REEL CHRISTMAS PRESENT</td>\n",
       "    </tr>\n",
       "    <tr>\n",
       "      <th>1299</th>\n",
       "      <td>22567</td>\n",
       "      <td>20 DOLLY PEGS RETROSPOT</td>\n",
       "    </tr>\n",
       "    <tr>\n",
       "      <th>5307</th>\n",
       "      <td>22078</td>\n",
       "      <td>RIBBON REEL LACE DESIGN</td>\n",
       "    </tr>\n",
       "    <tr>\n",
       "      <th>6673</th>\n",
       "      <td>22080</td>\n",
       "      <td>RIBBON REEL POLKADOTS</td>\n",
       "    </tr>\n",
       "    <tr>\n",
       "      <th>8523</th>\n",
       "      <td>84978</td>\n",
       "      <td>HANGING HEART JAR T-LIGHT HOLDER</td>\n",
       "    </tr>\n",
       "  </tbody>\n",
       "</table>\n",
       "</div>"
      ],
      "text/plain": [
       "     StockCode                       Description\n",
       "9        84879     ASSORTED COLOUR BIRD ORNAMENT\n",
       "325     85049E         SCANDINAVIAN REDS RIBBONS\n",
       "399     85049G            CHOCOLATE BOX RIBBONS \n",
       "562      22077            6 RIBBONS RUSTIC CHARM\n",
       "793      22737    RIBBON REEL CHRISTMAS PRESENT \n",
       "1299     22567           20 DOLLY PEGS RETROSPOT\n",
       "5307     22078          RIBBON REEL LACE DESIGN \n",
       "6673     22080            RIBBON REEL POLKADOTS \n",
       "8523     84978  HANGING HEART JAR T-LIGHT HOLDER"
      ]
     },
     "execution_count": 42,
     "metadata": {},
     "output_type": "execute_result"
    }
   ],
   "source": [
    "recommendProduct(AN_ALS, 17548, ProductTrain, CustomersArr, ProductsArr, 10, ItemData)"
   ]
  },
  {
   "cell_type": "code",
   "execution_count": null,
   "metadata": {},
   "outputs": [],
   "source": []
  }
 ],
 "metadata": {
  "kernelspec": {
   "display_name": "Python 3",
   "language": "python",
   "name": "python3"
  },
  "language_info": {
   "codemirror_mode": {
    "name": "ipython",
    "version": 3
   },
   "file_extension": ".py",
   "mimetype": "text/x-python",
   "name": "python",
   "nbconvert_exporter": "python",
   "pygments_lexer": "ipython3",
   "version": "3.7.3"
  }
 },
 "nbformat": 4,
 "nbformat_minor": 2
}
